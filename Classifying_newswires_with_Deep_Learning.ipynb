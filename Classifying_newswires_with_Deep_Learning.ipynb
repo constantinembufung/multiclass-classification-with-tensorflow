{
  "nbformat": 4,
  "nbformat_minor": 0,
  "metadata": {
    "colab": {
      "name": "Classifying newswires with Deep Learning.ipynb",
      "version": "0.3.2",
      "provenance": []
    },
    "kernelspec": {
      "name": "python3",
      "display_name": "Python 3"
    }
  },
  "cells": [
    {
      "cell_type": "markdown",
      "metadata": {
        "id": "view-in-github",
        "colab_type": "text"
      },
      "source": [
        "[View in Colaboratory](https://colab.research.google.com/github/constantinembufung/multiclass-classification-with-tensorflow/blob/master/Classifying_newswires_with_Deep_Learning.ipynb)"
      ]
    },
    {
      "metadata": {
        "id": "N9aLzHyAsgEu",
        "colab_type": "text"
      },
      "cell_type": "markdown",
      "source": [
        "# Loading the Reuters dataset"
      ]
    },
    {
      "metadata": {
        "id": "fSUocQQHsFu9",
        "colab_type": "code",
        "colab": {
          "base_uri": "https://localhost:8080/",
          "height": 51
        },
        "outputId": "c00137e9-4861-427c-8b21-6252b9ba9a84"
      },
      "cell_type": "code",
      "source": [
        "from keras.datasets import reuters\n",
        "\n",
        "(train_data, train_labels), (test_data, test_labels) = reuters.load_data(num_words=10000) \n",
        "#the argument num_words=10000 restricts the data to the 10,000 most frequently occurring words found in the data."
      ],
      "execution_count": 4,
      "outputs": [
        {
          "output_type": "stream",
          "text": [
            "Downloading data from https://s3.amazonaws.com/text-datasets/reuters.npz\n",
            "2113536/2110848 [==============================] - 2s 1us/step\n"
          ],
          "name": "stdout"
        }
      ]
    },
    {
      "metadata": {
        "id": "kQmqOQG0sv7h",
        "colab_type": "text"
      },
      "cell_type": "markdown",
      "source": [
        "You have 8,982 training examples and 2,246 test examples"
      ]
    },
    {
      "metadata": {
        "id": "FC63ykIcs4w2",
        "colab_type": "code",
        "colab": {
          "base_uri": "https://localhost:8080/",
          "height": 51
        },
        "outputId": "87e13dca-0142-41b2-e311-45394fc4c674"
      },
      "cell_type": "code",
      "source": [
        "print(len(train_data))\n",
        "print(len(test_data))"
      ],
      "execution_count": 6,
      "outputs": [
        {
          "output_type": "stream",
          "text": [
            "8982\n",
            "2246\n"
          ],
          "name": "stdout"
        }
      ]
    },
    {
      "metadata": {
        "id": "SMu8fhyHtP2I",
        "colab_type": "text"
      },
      "cell_type": "markdown",
      "source": [
        "Our data is a list of integers, so we will use one-hot encoding to encode the data "
      ]
    },
    {
      "metadata": {
        "id": "mB79qs92tJ0R",
        "colab_type": "code",
        "colab": {
          "base_uri": "https://localhost:8080/",
          "height": 71
        },
        "outputId": "becd9c7a-0c04-4ff9-8058-fa1a1f6fbe04"
      },
      "cell_type": "code",
      "source": [
        "print(train_data[0])\n",
        "print(train_labels[10])"
      ],
      "execution_count": 8,
      "outputs": [
        {
          "output_type": "stream",
          "text": [
            "[1, 2, 2, 8, 43, 10, 447, 5, 25, 207, 270, 5, 3095, 111, 16, 369, 186, 90, 67, 7, 89, 5, 19, 102, 6, 19, 124, 15, 90, 67, 84, 22, 482, 26, 7, 48, 4, 49, 8, 864, 39, 209, 154, 6, 151, 6, 83, 11, 15, 22, 155, 11, 15, 7, 48, 9, 4579, 1005, 504, 6, 258, 6, 272, 11, 15, 22, 134, 44, 11, 15, 16, 8, 197, 1245, 90, 67, 52, 29, 209, 30, 32, 132, 6, 109, 15, 17, 12]\n",
            "3\n"
          ],
          "name": "stdout"
        }
      ]
    },
    {
      "metadata": {
        "id": "IACQbuswtlzh",
        "colab_type": "text"
      },
      "cell_type": "markdown",
      "source": [
        "# Preparing the data\n",
        "we have to vectorize the data before feeding it into our neural network"
      ]
    },
    {
      "metadata": {
        "id": "B_sThvDTtlEe",
        "colab_type": "code",
        "colab": {}
      },
      "cell_type": "code",
      "source": [
        "import numpy as np\n",
        "\n",
        "def vectorize_sequences(sequences, dimension=10000):\n",
        "  results = np.zeros((len(sequences), dimension))\n",
        "  for i, sequence in enumerate(sequences):\n",
        "    results[i, sequence] = 1.\n",
        "  return results\n",
        "\n",
        "x_train = vectorize_sequences(train_data) #vectorize training data\n",
        "x_test  = vectorize_sequences(test_data) #vectorise test data "
      ],
      "execution_count": 0,
      "outputs": []
    },
    {
      "metadata": {
        "id": "Nlj_xU1NvLyy",
        "colab_type": "code",
        "colab": {}
      },
      "cell_type": "code",
      "source": [
        "#vectorize the labels\n",
        "def to_one_hot(labels, dimension=46):\n",
        "  results = np.zeros((len(labels), dimension))\n",
        "  for i, label in enumerate(labels):\n",
        "    results[i, label] = 1.\n",
        "  return results\n",
        "\n",
        "one_hot_train_labels = to_one_hot(train_labels) #vectorize training label\n",
        "one_hot_test_labels  = to_one_hot(test_labels) #vectorise test labels "
      ],
      "execution_count": 0,
      "outputs": []
    },
    {
      "metadata": {
        "id": "UJzxPwDoxd80",
        "colab_type": "text"
      },
      "cell_type": "markdown",
      "source": [
        "We wil have done the same thing using Keras,\n"
      ]
    },
    {
      "metadata": {
        "id": "l4GTA_YHxdmd",
        "colab_type": "code",
        "colab": {}
      },
      "cell_type": "code",
      "source": [
        "from keras.utils.np_utils import to_categorical\n",
        "\n",
        "one_hot_train_labels = to_categorical(train_labels)\n",
        "one_hot_test_labels = to_categorical(test_labels)"
      ],
      "execution_count": 0,
      "outputs": []
    },
    {
      "metadata": {
        "id": "TwoBWc-9x2zQ",
        "colab_type": "text"
      },
      "cell_type": "markdown",
      "source": [
        "#  Building your network\n",
        "we are going to use a 64 dimensional layers"
      ]
    },
    {
      "metadata": {
        "id": "xSGyHjEsyffW",
        "colab_type": "code",
        "colab": {}
      },
      "cell_type": "code",
      "source": [
        "from keras import models\n",
        "from keras import layers\n",
        "\n",
        "model = models.Sequential()\n",
        "model.add(layers.Dense(64, activation='relu', input_shape=(10000,)))\n",
        "model.add(layers.Dense(64, activation='relu'))\n",
        "model.add(layers.Dense(46, activation='softmax')) # each input sample, the network will output 46-dimensional vector"
      ],
      "execution_count": 0,
      "outputs": []
    },
    {
      "metadata": {
        "id": "i3b4GSXOzdMw",
        "colab_type": "text"
      },
      "cell_type": "markdown",
      "source": [
        "\n",
        "\n",
        "1.   We are going to use a softmax activation -  the network will output a probability distribution over the 46 different output  and the 46 scores will sum to 1\n",
        "2.   we use categorical_crossentropy - which means the distance btw 2 probability distribution\n",
        "\n"
      ]
    },
    {
      "metadata": {
        "id": "scpUxN-Z2ONz",
        "colab_type": "text"
      },
      "cell_type": "markdown",
      "source": [
        "# Compiling the model"
      ]
    },
    {
      "metadata": {
        "id": "YQzS1pg92LOG",
        "colab_type": "code",
        "colab": {}
      },
      "cell_type": "code",
      "source": [
        "model.compile(optimizer='rmsprop', loss='categorical_crossentropy', metrics=['accuracy'])"
      ],
      "execution_count": 0,
      "outputs": []
    },
    {
      "metadata": {
        "id": "0UCxIzCy2f2Y",
        "colab_type": "text"
      },
      "cell_type": "markdown",
      "source": [
        "Validating your approach"
      ]
    },
    {
      "metadata": {
        "id": "sw1Me0XG2e85",
        "colab_type": "code",
        "colab": {}
      },
      "cell_type": "code",
      "source": [
        "x_val = x_train[:1000]\n",
        "partial_x_train = x_train[1000:]\n",
        "y_val = one_hot_train_labels[:1000]\n",
        "partial_y_train = one_hot_train_labels[1000:]"
      ],
      "execution_count": 0,
      "outputs": []
    },
    {
      "metadata": {
        "id": "ufM7T76d2ojb",
        "colab_type": "code",
        "colab": {
          "base_uri": "https://localhost:8080/",
          "height": 734
        },
        "outputId": "0b721ad4-1c10-40b1-c10a-8278b5ccd67a"
      },
      "cell_type": "code",
      "source": [
        "history = model.fit(partial_x_train,\n",
        "                    partial_y_train,\n",
        "                    epochs=20,\n",
        "                    batch_size=512,\n",
        "                    validation_data=(x_val, y_val))"
      ],
      "execution_count": 30,
      "outputs": [
        {
          "output_type": "stream",
          "text": [
            "Train on 7982 samples, validate on 1000 samples\n",
            "Epoch 1/20\n",
            "7982/7982 [==============================] - 1s 139us/step - loss: 2.6127 - acc: 0.4647 - val_loss: 1.7269 - val_acc: 0.6350\n",
            "Epoch 2/20\n",
            "7982/7982 [==============================] - 1s 122us/step - loss: 1.4069 - acc: 0.7083 - val_loss: 1.2753 - val_acc: 0.7310\n",
            "Epoch 3/20\n",
            "7982/7982 [==============================] - 1s 150us/step - loss: 1.0428 - acc: 0.7785 - val_loss: 1.1036 - val_acc: 0.7650\n",
            "Epoch 4/20\n",
            "7982/7982 [==============================] - 1s 150us/step - loss: 0.8173 - acc: 0.8316 - val_loss: 1.0284 - val_acc: 0.7810\n",
            "Epoch 5/20\n",
            "7982/7982 [==============================] - 1s 148us/step - loss: 0.6502 - acc: 0.8634 - val_loss: 0.9528 - val_acc: 0.8060\n",
            "Epoch 6/20\n",
            "7982/7982 [==============================] - 1s 148us/step - loss: 0.5289 - acc: 0.8903 - val_loss: 0.9202 - val_acc: 0.8120\n",
            "Epoch 7/20\n",
            "7982/7982 [==============================] - 1s 150us/step - loss: 0.4205 - acc: 0.9112 - val_loss: 0.9018 - val_acc: 0.8140\n",
            "Epoch 8/20\n",
            "7982/7982 [==============================] - 1s 149us/step - loss: 0.3481 - acc: 0.9257 - val_loss: 0.8895 - val_acc: 0.8160\n",
            "Epoch 9/20\n",
            "6144/7982 [======================>.......] - ETA: 0s - loss: 0.2805 - acc: 0.9367"
          ],
          "name": "stdout"
        },
        {
          "output_type": "stream",
          "text": [
            "7982/7982 [==============================] - 1s 149us/step - loss: 0.2858 - acc: 0.9355 - val_loss: 0.8840 - val_acc: 0.8210\n",
            "Epoch 10/20\n",
            "7982/7982 [==============================] - 1s 150us/step - loss: 0.2434 - acc: 0.9435 - val_loss: 0.8833 - val_acc: 0.8150\n",
            "Epoch 11/20\n",
            "7982/7982 [==============================] - 1s 150us/step - loss: 0.2086 - acc: 0.9496 - val_loss: 0.9078 - val_acc: 0.8140\n",
            "Epoch 12/20\n",
            "7982/7982 [==============================] - 1s 150us/step - loss: 0.1822 - acc: 0.9525 - val_loss: 0.9347 - val_acc: 0.8060\n",
            "Epoch 13/20\n",
            "7982/7982 [==============================] - 1s 147us/step - loss: 0.1702 - acc: 0.9524 - val_loss: 0.9431 - val_acc: 0.8150\n",
            "Epoch 14/20\n",
            "7982/7982 [==============================] - 1s 147us/step - loss: 0.1550 - acc: 0.9548 - val_loss: 0.9840 - val_acc: 0.8080\n",
            "Epoch 15/20\n",
            "7982/7982 [==============================] - 1s 147us/step - loss: 0.1410 - acc: 0.9578 - val_loss: 0.9664 - val_acc: 0.8070\n",
            "Epoch 16/20\n",
            "7982/7982 [==============================] - 1s 147us/step - loss: 0.1315 - acc: 0.9562 - val_loss: 1.0067 - val_acc: 0.7970\n",
            "Epoch 17/20\n",
            "7982/7982 [==============================] - 1s 147us/step - loss: 0.1294 - acc: 0.9562 - val_loss: 1.0113 - val_acc: 0.8060\n",
            "Epoch 18/20\n",
            "1536/7982 [====>.........................] - ETA: 0s - loss: 0.1170 - acc: 0.9583"
          ],
          "name": "stdout"
        },
        {
          "output_type": "stream",
          "text": [
            "7982/7982 [==============================] - 1s 146us/step - loss: 0.1198 - acc: 0.9579 - val_loss: 1.1015 - val_acc: 0.7900\n",
            "Epoch 19/20\n",
            "7982/7982 [==============================] - 1s 146us/step - loss: 0.1172 - acc: 0.9570 - val_loss: 1.0295 - val_acc: 0.8100\n",
            "Epoch 20/20\n",
            "7982/7982 [==============================] - 1s 145us/step - loss: 0.1152 - acc: 0.9570 - val_loss: 1.0610 - val_acc: 0.8040\n"
          ],
          "name": "stdout"
        }
      ]
    },
    {
      "metadata": {
        "id": "NunQ2dMB2voQ",
        "colab_type": "text"
      },
      "cell_type": "markdown",
      "source": [
        "#  Plotting the training and validation loss"
      ]
    },
    {
      "metadata": {
        "id": "qKmTJJhd2xdX",
        "colab_type": "code",
        "colab": {
          "base_uri": "https://localhost:8080/",
          "height": 376
        },
        "outputId": "cdd5cf98-51f7-4cc5-cb74-06f9c4bb9d5c"
      },
      "cell_type": "code",
      "source": [
        "\n",
        "import  matplotlib.pyplot  as plt\n",
        "\n",
        "plt.plot(history.history['loss'])\n",
        "plt.plot(history.history['val_loss'])\n",
        "plt.title('Training and validation loss')\n",
        "plt.ylabel('Loss')\n",
        "plt.xlabel('Epochs')\n",
        "plt.legend(['Training loss', 'Validation loss'], loc='upper left')\n",
        "plt.show()"
      ],
      "execution_count": 32,
      "outputs": [
        {
          "output_type": "display_data",
          "data": {
            "image/png": "[encoded data removed]",
            "text/plain": [
              "<matplotlib.figure.Figure at 0x7fe24be51978>"
            ]
          },
          "metadata": {
            "tags": []
          }
        }
      ]
    },
    {
      "metadata": {
        "id": "oN33S1ct3ZEJ",
        "colab_type": "code",
        "colab": {
          "base_uri": "https://localhost:8080/",
          "height": 376
        },
        "outputId": "56601108-71f5-4db6-ae77-0ffd4ccd5862"
      },
      "cell_type": "code",
      "source": [
        "plt.plot(history.history['acc'])\n",
        "plt.plot(history.history['val_acc'])\n",
        "plt.title('Training and Validation Accuracy')\n",
        "plt.ylabel('Loss')\n",
        "plt.xlabel('Epochs')\n",
        "plt.legend(['Training Acc', 'Validation Acc'], loc='upper left')\n",
        "plt.show()"
      ],
      "execution_count": 33,
      "outputs": [
        {
          "output_type": "display_data",
          "data": {
            "image/png": "[encoded data removed]",
            "text/plain": [
              "<matplotlib.figure.Figure at 0x7fe24be48828>"
            ]
          },
          "metadata": {
            "tags": []
          }
        }
      ]
    },
    {
      "metadata": {
        "id": "0DQpZBCX3uGW",
        "colab_type": "text"
      },
      "cell_type": "markdown",
      "source": [
        "The network begins to overfit after nine epochs. Let’s train a new network from\n",
        "scratch for nine epochs and then evaluate it on the test set."
      ]
    },
    {
      "metadata": {
        "id": "o4Op_9le3ve6",
        "colab_type": "text"
      },
      "cell_type": "markdown",
      "source": [
        "# Retraining a model from scratch"
      ]
    },
    {
      "metadata": {
        "id": "i22gQ5D-3xSA",
        "colab_type": "code",
        "colab": {
          "base_uri": "https://localhost:8080/",
          "height": 377
        },
        "outputId": "d4489c0c-abc7-497c-bac2-a6926ae39126"
      },
      "cell_type": "code",
      "source": [
        "model = models.Sequential()\n",
        "model.add(layers.Dense(64, activation='relu', input_shape=(10000,)))\n",
        "model.add(layers.Dense(64, activation='relu'))\n",
        "model.add(layers.Dense(46, activation='softmax'))\n",
        "\n",
        "model.compile(optimizer='rmsprop',\n",
        "              loss='categorical_crossentropy',\n",
        "              metrics=['accuracy'])\n",
        "\n",
        "model.fit(partial_x_train,\n",
        "          partial_y_train,\n",
        "          epochs=9,\n",
        "          batch_size=512,\n",
        "          validation_data=(x_val, y_val))\n",
        "\n",
        "results = model.evaluate(x_test, one_hot_test_labels)"
      ],
      "execution_count": 34,
      "outputs": [
        {
          "output_type": "stream",
          "text": [
            "Train on 7982 samples, validate on 1000 samples\n",
            "Epoch 1/9\n",
            "7982/7982 [==============================] - 1s 135us/step - loss: 2.6853 - acc: 0.5233 - val_loss: 1.8243 - val_acc: 0.6470\n",
            "Epoch 2/9\n",
            "7982/7982 [==============================] - 1s 132us/step - loss: 1.4856 - acc: 0.6947 - val_loss: 1.3547 - val_acc: 0.7030\n",
            "Epoch 3/9\n",
            "7982/7982 [==============================] - 1s 149us/step - loss: 1.0869 - acc: 0.7681 - val_loss: 1.1717 - val_acc: 0.7410\n",
            "Epoch 4/9\n",
            "7982/7982 [==============================] - 1s 147us/step - loss: 0.8566 - acc: 0.8205 - val_loss: 1.0692 - val_acc: 0.7680\n",
            "Epoch 5/9\n",
            "7982/7982 [==============================] - 1s 148us/step - loss: 0.6850 - acc: 0.8597 - val_loss: 0.9760 - val_acc: 0.7920\n",
            "Epoch 6/9\n",
            "7982/7982 [==============================] - 1s 146us/step - loss: 0.5440 - acc: 0.8901 - val_loss: 0.9223 - val_acc: 0.8050\n",
            "Epoch 7/9\n",
            "7982/7982 [==============================] - 1s 148us/step - loss: 0.4353 - acc: 0.9118 - val_loss: 0.8964 - val_acc: 0.8130\n",
            "Epoch 8/9\n",
            "7982/7982 [==============================] - 1s 150us/step - loss: 0.3517 - acc: 0.9281 - val_loss: 0.8923 - val_acc: 0.8050\n",
            "Epoch 9/9\n",
            "6656/7982 [========================>.....] - ETA: 0s - loss: 0.2906 - acc: 0.9380"
          ],
          "name": "stdout"
        },
        {
          "output_type": "stream",
          "text": [
            "7982/7982 [==============================] - 1s 148us/step - loss: 0.2933 - acc: 0.9365 - val_loss: 0.9033 - val_acc: 0.8020\n",
            "2246/2246 [==============================] - 0s 105us/step\n"
          ],
          "name": "stdout"
        }
      ]
    },
    {
      "metadata": {
        "id": "d5J8TCcR4Bk9",
        "colab_type": "code",
        "colab": {
          "base_uri": "https://localhost:8080/",
          "height": 34
        },
        "outputId": "bb085558-2c14-433c-db9b-07bd9d2aa5ae"
      },
      "cell_type": "code",
      "source": [
        "print(results)"
      ],
      "execution_count": 35,
      "outputs": [
        {
          "output_type": "stream",
          "text": [
            "[0.9920435508021476, 0.7836153161706185]\n"
          ],
          "name": "stdout"
        }
      ]
    },
    {
      "metadata": {
        "id": "vJoDohrW5FaT",
        "colab_type": "text"
      },
      "cell_type": "markdown",
      "source": [
        "This approach reaches an accuracy of ~80%. With a balanced binary classification\n",
        "problem, the accuracy reached by a purely random classifier would be 50%. But in\n",
        "this case it’s closer to 19%, so the results seem pretty good, at least when compared to\n",
        "a random baseline:"
      ]
    },
    {
      "metadata": {
        "id": "ZzHU3DsZ4qpe",
        "colab_type": "code",
        "colab": {
          "base_uri": "https://localhost:8080/",
          "height": 34
        },
        "outputId": "1b593b83-7f56-4337-acc1-5cc142a1dea6"
      },
      "cell_type": "code",
      "source": [
        "import copy\n",
        "test_labels_copy = copy.copy(test_labels)\n",
        "np.random.shuffle(test_labels_copy)\n",
        "hits_array = np.array(test_labels) == np.array(test_labels_copy)\n",
        "float(np.sum(hits_array)) / len(test_labels)"
      ],
      "execution_count": 36,
      "outputs": [
        {
          "output_type": "execute_result",
          "data": {
            "text/plain": [
              "0.1892252894033838"
            ]
          },
          "metadata": {
            "tags": []
          },
          "execution_count": 36
        }
      ]
    },
    {
      "metadata": {
        "id": "n5PBipnl5ImY",
        "colab_type": "text"
      },
      "cell_type": "markdown",
      "source": [
        "# Generating predictions on new data"
      ]
    },
    {
      "metadata": {
        "id": "iDUxv-e_5LWY",
        "colab_type": "code",
        "colab": {}
      },
      "cell_type": "code",
      "source": [
        "predictions = model.predict(x_test)"
      ],
      "execution_count": 0,
      "outputs": []
    },
    {
      "metadata": {
        "id": "9p2PjQCB5RCa",
        "colab_type": "code",
        "colab": {
          "base_uri": "https://localhost:8080/",
          "height": 34
        },
        "outputId": "9077d27f-7c5a-4e11-dd98-e785974f23e8"
      },
      "cell_type": "code",
      "source": [
        "#each entry in predictions is a vector of length 46\n",
        "predictions[0].shape"
      ],
      "execution_count": 39,
      "outputs": [
        {
          "output_type": "execute_result",
          "data": {
            "text/plain": [
              "(46,)"
            ]
          },
          "metadata": {
            "tags": []
          },
          "execution_count": 39
        }
      ]
    },
    {
      "metadata": {
        "id": "xTRGlSGf5kHC",
        "colab_type": "text"
      },
      "cell_type": "markdown",
      "source": [
        "The coefficients in this vector sum to 1"
      ]
    },
    {
      "metadata": {
        "id": "rWR6ihkq5dpE",
        "colab_type": "code",
        "colab": {
          "base_uri": "https://localhost:8080/",
          "height": 34
        },
        "outputId": "9914ecc7-6f3a-4e94-d845-23ae0d2bf4d4"
      },
      "cell_type": "code",
      "source": [
        "np.sum(predictions[0])"
      ],
      "execution_count": 40,
      "outputs": [
        {
          "output_type": "execute_result",
          "data": {
            "text/plain": [
              "0.99999976"
            ]
          },
          "metadata": {
            "tags": []
          },
          "execution_count": 40
        }
      ]
    },
    {
      "metadata": {
        "id": "phxKnWwD5pD3",
        "colab_type": "code",
        "colab": {
          "base_uri": "https://localhost:8080/",
          "height": 34
        },
        "outputId": "017640fa-cdf6-4b53-d2ed-1dd0c8e31c14"
      },
      "cell_type": "code",
      "source": [
        "#The largest entry is the predicted class\n",
        "np.argmax(predictions[0])"
      ],
      "execution_count": 42,
      "outputs": [
        {
          "output_type": "execute_result",
          "data": {
            "text/plain": [
              "3"
            ]
          },
          "metadata": {
            "tags": []
          },
          "execution_count": 42
        }
      ]
    }
  ]
}